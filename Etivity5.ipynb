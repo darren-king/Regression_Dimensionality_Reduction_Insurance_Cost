{
 "cells": [
  {
   "cell_type": "code",
   "execution_count": 297,
   "metadata": {
    "collapsed": true,
    "pycharm": {
     "name": "#%%\n"
    }
   },
   "outputs": [],
   "source": []
  },
  {
   "cell_type": "markdown",
   "source": [
    "Name: Darren King\n",
    "Student_ID: 17145031"
   ],
   "metadata": {
    "collapsed": false,
    "pycharm": {
     "name": "#%% md\n"
    }
   }
  },
  {
   "cell_type": "code",
   "execution_count": 297,
   "outputs": [],
   "source": [],
   "metadata": {
    "collapsed": false,
    "pycharm": {
     "name": "#%%\n"
    }
   }
  },
  {
   "cell_type": "code",
   "execution_count": 298,
   "outputs": [],
   "source": [
    "import pandas as pd\n",
    "import numpy as np\n",
    "from sklearn.pipeline import Pipeline, make_pipeline, FeatureUnion\n",
    "from sklearn.compose import ColumnTransformer\n",
    "from sklearn.base import BaseEstimator, TransformerMixin\n",
    "from sklearn.preprocessing import StandardScaler, RobustScaler, FunctionTransformer\n",
    "from sklearn.model_selection import train_test_split, GridSearchCV\n",
    "from sklearn.random_projection import GaussianRandomProjection\n",
    "import pickle\n",
    "import matplotlib.pyplot as plt\n",
    "%matplotlib inline\n",
    "\n",
    "from sklearn.decomposition import PCA\n",
    "from sklearn.feature_selection import RFE\n",
    "from sklearn import svm\n",
    "from sklearn.cluster import AgglomerativeClustering\n",
    "\n",
    "from sklearn.ensemble import RandomForestRegressor\n",
    "from sklearn.linear_model import LinearRegression, SGDRegressor\n",
    "\n",
    "from sklearn.metrics import mean_squared_error, mean_absolute_error, r2_score\n"
   ],
   "metadata": {
    "collapsed": false,
    "pycharm": {
     "name": "#%%\n"
    }
   }
  },
  {
   "cell_type": "markdown",
   "source": [
    "## Exploratory Data Analysis"
   ],
   "metadata": {
    "collapsed": false,
    "pycharm": {
     "name": "#%% md\n"
    }
   }
  },
  {
   "cell_type": "code",
   "execution_count": 299,
   "outputs": [
    {
     "data": {
      "text/plain": "   age  gender     bmi  children smoker     region  insurance_cost\n0   18    male  33.770         1     no  southeast      1725.55230\n1   18    male  34.100         0     no  southeast      1137.01100\n2   18  female  26.315         0     no  northeast      2198.18985\n3   18  female  38.665         2     no  northeast      3393.35635\n4   18  female  35.625         0     no  northeast      2211.13075",
      "text/html": "<div>\n<style scoped>\n    .dataframe tbody tr th:only-of-type {\n        vertical-align: middle;\n    }\n\n    .dataframe tbody tr th {\n        vertical-align: top;\n    }\n\n    .dataframe thead th {\n        text-align: right;\n    }\n</style>\n<table border=\"1\" class=\"dataframe\">\n  <thead>\n    <tr style=\"text-align: right;\">\n      <th></th>\n      <th>age</th>\n      <th>gender</th>\n      <th>bmi</th>\n      <th>children</th>\n      <th>smoker</th>\n      <th>region</th>\n      <th>insurance_cost</th>\n    </tr>\n  </thead>\n  <tbody>\n    <tr>\n      <th>0</th>\n      <td>18</td>\n      <td>male</td>\n      <td>33.770</td>\n      <td>1</td>\n      <td>no</td>\n      <td>southeast</td>\n      <td>1725.55230</td>\n    </tr>\n    <tr>\n      <th>1</th>\n      <td>18</td>\n      <td>male</td>\n      <td>34.100</td>\n      <td>0</td>\n      <td>no</td>\n      <td>southeast</td>\n      <td>1137.01100</td>\n    </tr>\n    <tr>\n      <th>2</th>\n      <td>18</td>\n      <td>female</td>\n      <td>26.315</td>\n      <td>0</td>\n      <td>no</td>\n      <td>northeast</td>\n      <td>2198.18985</td>\n    </tr>\n    <tr>\n      <th>3</th>\n      <td>18</td>\n      <td>female</td>\n      <td>38.665</td>\n      <td>2</td>\n      <td>no</td>\n      <td>northeast</td>\n      <td>3393.35635</td>\n    </tr>\n    <tr>\n      <th>4</th>\n      <td>18</td>\n      <td>female</td>\n      <td>35.625</td>\n      <td>0</td>\n      <td>no</td>\n      <td>northeast</td>\n      <td>2211.13075</td>\n    </tr>\n  </tbody>\n</table>\n</div>"
     },
     "execution_count": 299,
     "metadata": {},
     "output_type": "execute_result"
    }
   ],
   "source": [
    "df = pd.read_csv(\"insurance.csv\")\n",
    "df.head()"
   ],
   "metadata": {
    "collapsed": false,
    "pycharm": {
     "name": "#%%\n"
    }
   }
  },
  {
   "cell_type": "markdown",
   "source": [
    "Our independent variables are age, gender, bmi, children, smoker, region.\n",
    "Our dependent variable is insurance_cost"
   ],
   "metadata": {
    "collapsed": false,
    "pycharm": {
     "name": "#%% md\n"
    }
   }
  },
  {
   "cell_type": "code",
   "execution_count": 300,
   "outputs": [
    {
     "data": {
      "text/plain": "age                 int64\ngender             object\nbmi               float64\nchildren            int64\nsmoker             object\nregion             object\ninsurance_cost    float64\ndtype: object"
     },
     "execution_count": 300,
     "metadata": {},
     "output_type": "execute_result"
    }
   ],
   "source": [
    "df.dtypes"
   ],
   "metadata": {
    "collapsed": false,
    "pycharm": {
     "name": "#%%\n"
    }
   }
  },
  {
   "cell_type": "code",
   "execution_count": 301,
   "outputs": [
    {
     "data": {
      "text/plain": "gender    2\nsmoker    2\nregion    4\ndtype: int64"
     },
     "execution_count": 301,
     "metadata": {},
     "output_type": "execute_result"
    }
   ],
   "source": [
    "categorical = ['gender', 'smoker', 'region']\n",
    "df[categorical].nunique()\n"
   ],
   "metadata": {
    "collapsed": false,
    "pycharm": {
     "name": "#%%\n"
    }
   }
  },
  {
   "cell_type": "code",
   "execution_count": 302,
   "outputs": [
    {
     "data": {
      "text/plain": "age               0\ngender            0\nbmi               0\nchildren          0\nsmoker            0\nregion            0\ninsurance_cost    0\ndtype: int64"
     },
     "execution_count": 302,
     "metadata": {},
     "output_type": "execute_result"
    }
   ],
   "source": [
    "# Check for missing values:\n",
    "\n",
    "df.isna().sum()\n"
   ],
   "metadata": {
    "collapsed": false,
    "pycharm": {
     "name": "#%%\n"
    }
   }
  },
  {
   "cell_type": "markdown",
   "source": [
    "There are no missing values"
   ],
   "metadata": {
    "collapsed": false,
    "pycharm": {
     "name": "#%% md\n"
    }
   }
  },
  {
   "cell_type": "code",
   "execution_count": 303,
   "outputs": [
    {
     "data": {
      "text/plain": "               age          bmi     children  insurance_cost\ncount  1338.000000  1338.000000  1338.000000     1338.000000\nmean     39.207025    30.663397     1.094918    13270.422265\nstd      14.049960     6.098187     1.205493    12110.011237\nmin      18.000000    15.960000     0.000000     1121.873900\n25%      27.000000    26.296250     0.000000     4740.287150\n50%      39.000000    30.400000     1.000000     9382.033000\n75%      51.000000    34.693750     2.000000    16639.912515\nmax      64.000000    53.130000     5.000000    63770.428010",
      "text/html": "<div>\n<style scoped>\n    .dataframe tbody tr th:only-of-type {\n        vertical-align: middle;\n    }\n\n    .dataframe tbody tr th {\n        vertical-align: top;\n    }\n\n    .dataframe thead th {\n        text-align: right;\n    }\n</style>\n<table border=\"1\" class=\"dataframe\">\n  <thead>\n    <tr style=\"text-align: right;\">\n      <th></th>\n      <th>age</th>\n      <th>bmi</th>\n      <th>children</th>\n      <th>insurance_cost</th>\n    </tr>\n  </thead>\n  <tbody>\n    <tr>\n      <th>count</th>\n      <td>1338.000000</td>\n      <td>1338.000000</td>\n      <td>1338.000000</td>\n      <td>1338.000000</td>\n    </tr>\n    <tr>\n      <th>mean</th>\n      <td>39.207025</td>\n      <td>30.663397</td>\n      <td>1.094918</td>\n      <td>13270.422265</td>\n    </tr>\n    <tr>\n      <th>std</th>\n      <td>14.049960</td>\n      <td>6.098187</td>\n      <td>1.205493</td>\n      <td>12110.011237</td>\n    </tr>\n    <tr>\n      <th>min</th>\n      <td>18.000000</td>\n      <td>15.960000</td>\n      <td>0.000000</td>\n      <td>1121.873900</td>\n    </tr>\n    <tr>\n      <th>25%</th>\n      <td>27.000000</td>\n      <td>26.296250</td>\n      <td>0.000000</td>\n      <td>4740.287150</td>\n    </tr>\n    <tr>\n      <th>50%</th>\n      <td>39.000000</td>\n      <td>30.400000</td>\n      <td>1.000000</td>\n      <td>9382.033000</td>\n    </tr>\n    <tr>\n      <th>75%</th>\n      <td>51.000000</td>\n      <td>34.693750</td>\n      <td>2.000000</td>\n      <td>16639.912515</td>\n    </tr>\n    <tr>\n      <th>max</th>\n      <td>64.000000</td>\n      <td>53.130000</td>\n      <td>5.000000</td>\n      <td>63770.428010</td>\n    </tr>\n  </tbody>\n</table>\n</div>"
     },
     "execution_count": 303,
     "metadata": {},
     "output_type": "execute_result"
    }
   ],
   "source": [
    "# Check for outliers using describe and boxplots\n",
    "\n",
    "df.describe()"
   ],
   "metadata": {
    "collapsed": false,
    "pycharm": {
     "name": "#%%\n"
    }
   }
  },
  {
   "cell_type": "markdown",
   "source": [
    "The numerical data all looks reasonable, no unexpected or 'impossible' numerical values for the numerical categories; the min and max of the insurance cost, are, unsurprisingly, significantly seperated. But this is our dependent variable..."
   ],
   "metadata": {
    "collapsed": false,
    "pycharm": {
     "name": "#%% md\n"
    }
   }
  },
  {
   "cell_type": "code",
   "execution_count": 304,
   "outputs": [
    {
     "data": {
      "text/plain": "<AxesSubplot:>"
     },
     "execution_count": 304,
     "metadata": {},
     "output_type": "execute_result"
    },
    {
     "data": {
      "text/plain": "<Figure size 1440x576 with 1 Axes>",
      "image/png": "[encoded data removed]"
     },
     "metadata": {
      "needs_background": "light"
     },
     "output_type": "display_data"
    }
   ],
   "source": [
    "df.drop('insurance_cost', axis=1).boxplot(figsize=(20,8), fontsize=14)\n"
   ],
   "metadata": {
    "collapsed": false,
    "pycharm": {
     "name": "#%%\n"
    }
   }
  },
  {
   "cell_type": "code",
   "execution_count": 305,
   "outputs": [
    {
     "data": {
      "text/plain": "<AxesSubplot:>"
     },
     "execution_count": 305,
     "metadata": {},
     "output_type": "execute_result"
    },
    {
     "data": {
      "text/plain": "<Figure size 576x432 with 1 Axes>",
      "image/png": "[encoded data removed]"
     },
     "metadata": {
      "needs_background": "light"
     },
     "output_type": "display_data"
    }
   ],
   "source": [
    "df.boxplot(column=['insurance_cost'], figsize=(8,6), fontsize=14)\n",
    "# This is our dependent variable, so we're not worried about outliers here as the model needs to be able to predict such\n",
    "# 'outliers'\n",
    "# BMI on the other hand has a number of outliers and therefore we will need to scale this variable differently to the others."
   ],
   "metadata": {
    "collapsed": false,
    "pycharm": {
     "name": "#%%\n"
    }
   }
  },
  {
   "cell_type": "code",
   "execution_count": 305,
   "outputs": [],
   "source": [],
   "metadata": {
    "collapsed": false,
    "pycharm": {
     "name": "#%%\n"
    }
   }
  },
  {
   "cell_type": "markdown",
   "source": [
    "## Data Preparation"
   ],
   "metadata": {
    "collapsed": false,
    "pycharm": {
     "name": "#%% md\n"
    }
   }
  },
  {
   "cell_type": "code",
   "execution_count": 305,
   "outputs": [],
   "source": [],
   "metadata": {
    "collapsed": false,
    "pycharm": {
     "name": "#%%\n"
    }
   }
  },
  {
   "cell_type": "code",
   "execution_count": 306,
   "outputs": [],
   "source": [
    "# One hot encoding of the categorical values\n",
    "\n",
    "df = pd.get_dummies(df, columns= categorical, drop_first= False)\n",
    "# I prefer to keep all the columns with one hot encoding, especially given the 4 regions aren't as intuitive as\n",
    "# gender and smoker (could drop the first for smoking and gender if wanted)."
   ],
   "metadata": {
    "collapsed": false,
    "pycharm": {
     "name": "#%%\n"
    }
   }
  },
  {
   "cell_type": "code",
   "execution_count": 307,
   "outputs": [
    {
     "data": {
      "text/plain": "   age     bmi  children  insurance_cost  gender_female  gender_male  \\\n0   18  33.770         1      1725.55230              0            1   \n1   18  34.100         0      1137.01100              0            1   \n2   18  26.315         0      2198.18985              1            0   \n3   18  38.665         2      3393.35635              1            0   \n4   18  35.625         0      2211.13075              1            0   \n\n   smoker_no  smoker_yes  region_northeast  region_northwest  \\\n0          1           0                 0                 0   \n1          1           0                 0                 0   \n2          1           0                 1                 0   \n3          1           0                 1                 0   \n4          1           0                 1                 0   \n\n   region_southeast  region_southwest  \n0                 1                 0  \n1                 1                 0  \n2                 0                 0  \n3                 0                 0  \n4                 0                 0  ",
      "text/html": "<div>\n<style scoped>\n    .dataframe tbody tr th:only-of-type {\n        vertical-align: middle;\n    }\n\n    .dataframe tbody tr th {\n        vertical-align: top;\n    }\n\n    .dataframe thead th {\n        text-align: right;\n    }\n</style>\n<table border=\"1\" class=\"dataframe\">\n  <thead>\n    <tr style=\"text-align: right;\">\n      <th></th>\n      <th>age</th>\n      <th>bmi</th>\n      <th>children</th>\n      <th>insurance_cost</th>\n      <th>gender_female</th>\n      <th>gender_male</th>\n      <th>smoker_no</th>\n      <th>smoker_yes</th>\n      <th>region_northeast</th>\n      <th>region_northwest</th>\n      <th>region_southeast</th>\n      <th>region_southwest</th>\n    </tr>\n  </thead>\n  <tbody>\n    <tr>\n      <th>0</th>\n      <td>18</td>\n      <td>33.770</td>\n      <td>1</td>\n      <td>1725.55230</td>\n      <td>0</td>\n      <td>1</td>\n      <td>1</td>\n      <td>0</td>\n      <td>0</td>\n      <td>0</td>\n      <td>1</td>\n      <td>0</td>\n    </tr>\n    <tr>\n      <th>1</th>\n      <td>18</td>\n      <td>34.100</td>\n      <td>0</td>\n      <td>1137.01100</td>\n      <td>0</td>\n      <td>1</td>\n      <td>1</td>\n      <td>0</td>\n      <td>0</td>\n      <td>0</td>\n      <td>1</td>\n      <td>0</td>\n    </tr>\n    <tr>\n      <th>2</th>\n      <td>18</td>\n      <td>26.315</td>\n      <td>0</td>\n      <td>2198.18985</td>\n      <td>1</td>\n      <td>0</td>\n      <td>1</td>\n      <td>0</td>\n      <td>1</td>\n      <td>0</td>\n      <td>0</td>\n      <td>0</td>\n    </tr>\n    <tr>\n      <th>3</th>\n      <td>18</td>\n      <td>38.665</td>\n      <td>2</td>\n      <td>3393.35635</td>\n      <td>1</td>\n      <td>0</td>\n      <td>1</td>\n      <td>0</td>\n      <td>1</td>\n      <td>0</td>\n      <td>0</td>\n      <td>0</td>\n    </tr>\n    <tr>\n      <th>4</th>\n      <td>18</td>\n      <td>35.625</td>\n      <td>0</td>\n      <td>2211.13075</td>\n      <td>1</td>\n      <td>0</td>\n      <td>1</td>\n      <td>0</td>\n      <td>1</td>\n      <td>0</td>\n      <td>0</td>\n      <td>0</td>\n    </tr>\n  </tbody>\n</table>\n</div>"
     },
     "execution_count": 307,
     "metadata": {},
     "output_type": "execute_result"
    }
   ],
   "source": [
    "df.head()"
   ],
   "metadata": {
    "collapsed": false,
    "pycharm": {
     "name": "#%%\n"
    }
   }
  },
  {
   "cell_type": "code",
   "execution_count": 307,
   "outputs": [],
   "source": [],
   "metadata": {
    "collapsed": false,
    "pycharm": {
     "name": "#%%\n"
    }
   }
  },
  {
   "cell_type": "code",
   "execution_count": 308,
   "outputs": [],
   "source": [
    "# These are all the names of the independent variables\n",
    "names_all = [c for c in df if c not in ['insurance_cost']]\n",
    "\n",
    "# These are the names of the independent variables with prominent outliers\n",
    "names_outliers = ['bmi']\n",
    "\n",
    "# These are the names of the independent variables without prominent outliers\n",
    "names_no_outliers = list(set(names_all) - set(names_outliers))"
   ],
   "metadata": {
    "collapsed": false,
    "pycharm": {
     "name": "#%%\n"
    }
   }
  },
  {
   "cell_type": "code",
   "execution_count": 309,
   "outputs": [
    {
     "name": "stdout",
     "output_type": "stream",
     "text": [
      "['age', 'bmi', 'children', 'gender_female', 'gender_male', 'smoker_no', 'smoker_yes', 'region_northeast', 'region_northwest', 'region_southeast', 'region_southwest']\n",
      "['smoker_no', 'region_southeast', 'children', 'region_northeast', 'gender_female', 'age', 'region_northwest', 'smoker_yes', 'region_southwest', 'gender_male']\n"
     ]
    }
   ],
   "source": [
    "print(names_all)\n",
    "print(names_no_outliers)"
   ],
   "metadata": {
    "collapsed": false,
    "pycharm": {
     "name": "#%%\n"
    }
   }
  },
  {
   "cell_type": "code",
   "execution_count": 310,
   "outputs": [],
   "source": [
    "class AddColumnNames(BaseEstimator, TransformerMixin):\n",
    "    \"\"\"\n",
    "    A class to be used in the preprocessing pipeline to put the names of the columns/attributes back\n",
    "    as we will lose the names of the columns in the train/test split\n",
    "    We're subclassing from the BaseEstimator and the TransformerMixin to ensure we inherit everything from\n",
    "    these classes\n",
    "    \"\"\"\n",
    "    def __init__(self, columns):\n",
    "        self.columns = columns\n",
    "\n",
    "    def fit(self, X, y=None):\n",
    "        return self\n",
    "\n",
    "    def transform(self, X):\n",
    "        return pd.DataFrame(data=X, columns=self.columns)"
   ],
   "metadata": {
    "collapsed": false,
    "pycharm": {
     "name": "#%%\n"
    }
   }
  },
  {
   "cell_type": "code",
   "execution_count": 311,
   "outputs": [],
   "source": [
    "class ColumnSelector(BaseEstimator, TransformerMixin):\n",
    "    \"\"\"\n",
    "    A class to select a particular group of columns as we won't be preprocessing all the columns in\n",
    "    the same manner\n",
    "    \"\"\"\n",
    "    def __init__(self, columns):\n",
    "        self.columns = columns\n",
    "\n",
    "    def fit(self, X, y=None):\n",
    "        return self\n",
    "\n",
    "    def transform(self, X):\n",
    "        assert isinstance(X, pd.DataFrame)\n",
    "        return X[self.columns]"
   ],
   "metadata": {
    "collapsed": false,
    "pycharm": {
     "name": "#%%\n"
    }
   }
  },
  {
   "cell_type": "code",
   "execution_count": 312,
   "outputs": [],
   "source": [
    "preprocess_pipeline = make_pipeline(\n",
    "    AddColumnNames(names_all),\n",
    "    FeatureUnion(transformer_list=[\n",
    "        (\"outliers\", make_pipeline(\n",
    "            ColumnSelector(names_outliers),\n",
    "            FunctionTransformer (np.log, validate=True),\n",
    "            RobustScaler()\n",
    "        )),\n",
    "        (\"no_outliers\", make_pipeline(\n",
    "            ColumnSelector(names_no_outliers),\n",
    "            StandardScaler()\n",
    "        ))\n",
    "    ])\n",
    ")"
   ],
   "metadata": {
    "collapsed": false,
    "pycharm": {
     "name": "#%%\n"
    }
   }
  },
  {
   "cell_type": "code",
   "execution_count": 313,
   "outputs": [
    {
     "data": {
      "text/plain": "Pipeline(steps=[('addcolumnnames',\n                 AddColumnNames(columns=['age', 'bmi', 'children',\n                                         'gender_female', 'gender_male',\n                                         'smoker_no', 'smoker_yes',\n                                         'region_northeast', 'region_northwest',\n                                         'region_southeast',\n                                         'region_southwest'])),\n                ('featureunion',\n                 FeatureUnion(transformer_list=[('outliers',\n                                                 Pipeline(steps=[('columnselector',\n                                                                  ColumnSelector(columns=['bmi'])),\n                                                                 ('functio...\n                                                                  FunctionTransformer(func=<ufunc 'log'>,\n                                                                                      validate=True)),\n                                                                 ('robustscaler',\n                                                                  RobustScaler())])),\n                                                ('no_outliers',\n                                                 Pipeline(steps=[('columnselector',\n                                                                  ColumnSelector(columns=['smoker_no',\n                                                                                          'region_southeast',\n                                                                                          'children',\n                                                                                          'region_northeast',\n                                                                                          'gender_female',\n                                                                                          'age',\n                                                                                          'region_northwest',\n                                                                                          'smoker_yes',\n                                                                                          'region_southwest',\n                                                                                          'gender_male'])),\n                                                                 ('standardscaler',\n                                                                  StandardScaler())]))]))])"
     },
     "execution_count": 313,
     "metadata": {},
     "output_type": "execute_result"
    }
   ],
   "source": [
    "preprocess_pipeline"
   ],
   "metadata": {
    "collapsed": false,
    "pycharm": {
     "name": "#%%\n"
    }
   }
  },
  {
   "cell_type": "code",
   "execution_count": 314,
   "outputs": [],
   "source": [
    "y = df['insurance_cost']\n",
    "\n",
    "X = df.drop('insurance_cost', axis=1).values"
   ],
   "metadata": {
    "collapsed": false,
    "pycharm": {
     "name": "#%%\n"
    }
   }
  },
  {
   "cell_type": "code",
   "execution_count": 315,
   "outputs": [
    {
     "name": "stdout",
     "output_type": "stream",
     "text": [
      "0        1725.55230\n",
      "1        1137.01100\n",
      "2        2198.18985\n",
      "3        3393.35635\n",
      "4        2211.13075\n",
      "           ...     \n",
      "1333    16069.08475\n",
      "1334    29330.98315\n",
      "1335    14394.55790\n",
      "1336    49577.66240\n",
      "1337    26926.51440\n",
      "Name: insurance_cost, Length: 1338, dtype: float64\n"
     ]
    }
   ],
   "source": [
    "print(y)"
   ],
   "metadata": {
    "collapsed": false,
    "pycharm": {
     "name": "#%%\n"
    }
   }
  },
  {
   "cell_type": "code",
   "execution_count": 316,
   "outputs": [],
   "source": [
    "X_train, X_test, y_train, y_test = train_test_split(X, y, test_size=0.2, shuffle=True)"
   ],
   "metadata": {
    "collapsed": false,
    "pycharm": {
     "name": "#%%\n"
    }
   }
  },
  {
   "cell_type": "markdown",
   "source": [
    "### Random Forest Pipeline"
   ],
   "metadata": {
    "collapsed": false,
    "pycharm": {
     "name": "#%% md\n"
    }
   }
  },
  {
   "cell_type": "markdown",
   "source": [
    "We're going to add dimensionality reduction to the pipeline; we're adding 3 different dimensionality reduction techniques:\n",
    "1. PCA (Principal Component Analysis)\n",
    "2. RFE (Reduced Feature Extraction) with a linear SVM\n",
    "3. RFE (Reduced Feature Extraction) with linear regression"
   ],
   "metadata": {
    "collapsed": false,
    "pycharm": {
     "name": "#%% md\n"
    }
   }
  },
  {
   "cell_type": "code",
   "execution_count": null,
   "outputs": [],
   "source": [
    "pipe = Pipeline(steps=[('preprocess', preprocess_pipeline),\n",
    "                       ('reduce_dimensionality', 'passthrough'),\n",
    "                       (\"random_forest_regressor\", RandomForestRegressor(random_state=42))])\n",
    "\n",
    "param_grid = [\n",
    "    {\n",
    "        'reduce_dimensionality': [PCA(iterated_power=7, random_state=42)],\n",
    "        'reduce_dimensionality__n_components': [2,4,6,8,10,11,None],\n",
    "        'reduce_dimensionality__svd_solver': ['auto', 'full', 'arpack', 'randomized'],\n",
    "        'random_forest_regressor__n_estimators': [10,20,30,40,50,60,70,80,90,100],\n",
    "        #'random_forest_regressor__criterion': [\"squared_error\", \"absolute_error\", \"poisson\"],\n",
    "        'random_forest_regressor__max_depth': [2,4,6,8,10, None]\n",
    "    },\n",
    "    {\n",
    "        'reduce_dimensionality': [RFE(svm.SVR(kernel='linear', gamma='auto')), RFE(LinearRegression())],\n",
    "        'reduce_dimensionality__n_features_to_select': [2,4,6,8,10,11, None],\n",
    "        'random_forest_regressor__n_estimators': [10,20,30,40,50,60,70,80,90,100],\n",
    "        #'random_forest_regressor__criterion': [\"squared_error\", \"absolute_error\", \"poisson\"],\n",
    "        'random_forest_regressor__max_depth': [2,4,6,8,10, None]\n",
    "    }\n",
    "]\n",
    "\n",
    "search = GridSearchCV(pipe, param_grid, n_jobs=-1, cv=5, refit=True) # -1 uses all processors, True uses whole training set\n",
    "search.fit(X_train, y_train)"
   ],
   "metadata": {
    "collapsed": false,
    "pycharm": {
     "name": "#%%\n",
     "is_executing": true
    }
   }
  },
  {
   "cell_type": "code",
   "execution_count": 318,
   "outputs": [
    {
     "name": "stdout",
     "output_type": "stream",
     "text": [
      "Best CV Score:  0.868216140645959\n",
      "Best Parameters:  {'random_forest_regressor__max_depth': 4, 'random_forest_regressor__n_estimators': 100, 'reduce_dimensionality': RFE(estimator=SVR(gamma='auto', kernel='linear'), n_features_to_select=8), 'reduce_dimensionality__n_features_to_select': 8}\n"
     ]
    }
   ],
   "source": [
    "print(\"Best CV Score: \", search.best_score_)\n",
    "print(\"Best Parameters: \", search.best_params_)\n",
    "\n",
    "# We need to store the parameters and the best model for later use in our comparison\n",
    "\n",
    "rfr_best_cv_score = search.best_score_\n",
    "rfr_best_params = search.best_params_\n",
    "rfr_best_model = search.best_estimator_ # This gives us our best estimator out of the gridsearch"
   ],
   "metadata": {
    "collapsed": false,
    "pycharm": {
     "name": "#%%\n"
    }
   }
  },
  {
   "cell_type": "markdown",
   "source": [
    "###  Linear Regression Pipeline"
   ],
   "metadata": {
    "collapsed": false,
    "pycharm": {
     "name": "#%% md\n"
    }
   }
  },
  {
   "cell_type": "code",
   "execution_count": null,
   "outputs": [],
   "source": [
    "pipe = Pipeline(steps=[('preprocess', preprocess_pipeline),\n",
    "                       ('reduce_dimensionality', 'passthrough'),\n",
    "                       (\"linear_regressor\", LinearRegression())])\n",
    "\n",
    "param_grid = [\n",
    "    {\n",
    "        'reduce_dimensionality': [PCA(iterated_power=7, random_state=42)],\n",
    "        'reduce_dimensionality__n_components': [2,4,6,8,10,11,None],\n",
    "        'reduce_dimensionality__svd_solver': ['auto', 'full', 'arpack', 'randomized'],\n",
    "        # 'linear_regressor__normalize': [True, False] - deprecated\n",
    "    },\n",
    "    {\n",
    "        'reduce_dimensionality': [RFE(svm.SVR(kernel='linear', gamma='auto')), RFE(LinearRegression())],\n",
    "        'reduce_dimensionality__n_features_to_select': [2,4,6,8,10,11, None],\n",
    "        # 'linear_regressor__normalize': [True, False] - deprecated\n",
    "    }\n",
    "]\n",
    "\n",
    "search = GridSearchCV(pipe, param_grid, n_jobs=-1, cv=5, refit=True) # -1 uses all processors, True uses whole training set\n",
    "search.fit(X_train, y_train)\n",
    "\n",
    "print(\"Best CV Score: \", search.best_score_)\n",
    "print(\"Best Parameters: \", search.best_params_)\n",
    "\n",
    "# We need to store the parameters and the best model for later use in our comparison\n",
    "\n",
    "lr_best_cv_score = search.best_score_\n",
    "lr_best_params = search.best_params_\n",
    "lr_best_model = search.best_estimator_ # This gives us our best estimator out of the gridsearch"
   ],
   "metadata": {
    "collapsed": false,
    "pycharm": {
     "name": "#%%\n",
     "is_executing": true
    }
   }
  },
  {
   "cell_type": "code",
   "execution_count": 320,
   "outputs": [
    {
     "name": "stdout",
     "output_type": "stream",
     "text": [
      "Best CV Score:  0.7519844777790187\n",
      "Best Parameters:  {'reduce_dimensionality': PCA(iterated_power=7, n_components=10, random_state=42, svd_solver='randomized'), 'reduce_dimensionality__n_components': 10, 'reduce_dimensionality__svd_solver': 'randomized'}\n"
     ]
    }
   ],
   "source": [
    "print(\"Best CV Score: \", search.best_score_)\n",
    "print(\"Best Parameters: \", search.best_params_)\n",
    "\n",
    "# We need to store the parameters and the best model for later use in our comparison\n",
    "\n",
    "lr_best_cv_score = search.best_score_\n",
    "lr_best_params = search.best_params_\n",
    "lr_best_model = search.best_estimator_ # This gives us our best estimator out of the gridsearch"
   ],
   "metadata": {
    "collapsed": false,
    "pycharm": {
     "name": "#%%\n"
    }
   }
  },
  {
   "cell_type": "code",
   "execution_count": 320,
   "outputs": [],
   "source": [],
   "metadata": {
    "collapsed": false,
    "pycharm": {
     "name": "#%%\n"
    }
   }
  },
  {
   "cell_type": "markdown",
   "source": [
    "### Comparing Our Models"
   ],
   "metadata": {
    "collapsed": false,
    "pycharm": {
     "name": "#%% md\n"
    }
   }
  },
  {
   "cell_type": "code",
   "execution_count": 320,
   "outputs": [],
   "source": [],
   "metadata": {
    "collapsed": false,
    "pycharm": {
     "name": "#%%\n"
    }
   }
  },
  {
   "cell_type": "code",
   "execution_count": 321,
   "outputs": [],
   "source": [
    "def evaluate_model(X_test, y_test, model):\n",
    "\n",
    "    _y_pred = model.predict(X_test)\n",
    "\n",
    "    _mse = mean_squared_error(y_test, _y_pred)\n",
    "    _mae = mean_absolute_error(y_test, _y_pred)\n",
    "    _r2 = r2_score(y_test, _y_pred)\n",
    "\n",
    "    return _mse, _mae, _r2"
   ],
   "metadata": {
    "collapsed": false,
    "pycharm": {
     "name": "#%%\n"
    }
   }
  },
  {
   "cell_type": "code",
   "execution_count": 322,
   "outputs": [],
   "source": [
    "rf_mse, rf_mae, rf_r2 = evaluate_model(X_test, y_test, rfr_best_model)"
   ],
   "metadata": {
    "collapsed": false,
    "pycharm": {
     "name": "#%%\n"
    }
   }
  },
  {
   "cell_type": "code",
   "execution_count": 323,
   "outputs": [],
   "source": [
    "lr_mse, lr_mae, lr_r2 = evaluate_model(X_test, y_test, lr_best_model)"
   ],
   "metadata": {
    "collapsed": false,
    "pycharm": {
     "name": "#%%\n"
    }
   }
  },
  {
   "cell_type": "code",
   "execution_count": 324,
   "outputs": [],
   "source": [
    "df_mse = pd.DataFrame({'Random Forest': rf_mse, 'Linear Regression': lr_mse}, index = ['MSE'])\n",
    "df_mae = pd.DataFrame({'Random Forest': rf_mae, 'Linear Regression': lr_mae}, index = ['MAE'])\n",
    "df_r2 = pd.DataFrame({'Random Forest': rf_r2, 'Linear Regression': lr_r2}, index = ['R2'])"
   ],
   "metadata": {
    "collapsed": false,
    "pycharm": {
     "name": "#%%\n"
    }
   }
  },
  {
   "cell_type": "code",
   "execution_count": 325,
   "outputs": [
    {
     "data": {
      "text/plain": "<AxesSubplot:>"
     },
     "execution_count": 325,
     "metadata": {},
     "output_type": "execute_result"
    },
    {
     "data": {
      "text/plain": "<Figure size 1440x360 with 3 Axes>",
      "image/png": "[encoded data removed]"
     },
     "metadata": {
      "needs_background": "light"
     },
     "output_type": "display_data"
    }
   ],
   "source": [
    "fig, axes = plt.subplots(nrows=1, ncols=3, figsize=(20,5))\n",
    "\n",
    "df_mse.plot.bar(rot=0, ax=axes[0])\n",
    "df_mae.plot.bar(rot=0, ax=axes[1])\n",
    "df_r2.plot.bar(rot=0, ax=axes[2])"
   ],
   "metadata": {
    "collapsed": false,
    "pycharm": {
     "name": "#%%\n"
    }
   }
  },
  {
   "cell_type": "markdown",
   "source": [
    "MSE = Mean Squared Error - this is the squared error that our model makes on average; our random forest model makes less error than our linear regression model. We want our errors to be low.\n",
    "\n",
    "MAE = Mean Absolute Error is the average of the absolute values of the errors, i.e. how far was the model off on average for each prediction. Again our random forest model has a lower MAE than our linear regression model and as such is a better model on the basis of this metric.\n",
    "\n",
    "R2 = This metric represents the proportion of variance explained by your model. A model which explains no variance would have an r2 of zero and a model that explains all the variance would have an r2 of 1. Simply, the higher the r2 the better. A model with an r2 of 0.5 is able to account for half of the variance in the data. As can be seen above, our random forest model performs better than our linear regression model in relation to this relative metric."
   ],
   "metadata": {
    "collapsed": false,
    "pycharm": {
     "name": "#%% md\n"
    }
   }
  },
  {
   "cell_type": "code",
   "execution_count": 325,
   "outputs": [],
   "source": [],
   "metadata": {
    "collapsed": false,
    "pycharm": {
     "name": "#%%\n"
    }
   }
  },
  {
   "cell_type": "markdown",
   "source": [
    "### SGD Regressor (Stochastic Gradient Descent) Pipeline"
   ],
   "metadata": {
    "collapsed": false,
    "pycharm": {
     "name": "#%% md\n"
    }
   }
  },
  {
   "cell_type": "code",
   "execution_count": null,
   "outputs": [],
   "source": [
    "pipe = Pipeline(steps=[('preprocess', preprocess_pipeline),\n",
    "                       ('reduce_dimensionality', 'passthrough'),\n",
    "                       (\"sgd_regressor\", SGDRegressor(random_state=42))])\n",
    "\n",
    "param_grid = [\n",
    "    {\n",
    "        'reduce_dimensionality': [PCA(iterated_power=7, random_state=42)],\n",
    "        'reduce_dimensionality__n_components': [2,4,6,8,10,11,None],\n",
    "        'reduce_dimensionality__svd_solver': ['auto', 'full', 'arpack', 'randomized'],\n",
    "        'sgd_regressor__penalty': ['l2', 'l1', 'elasticnet'],\n",
    "        'sgd_regressor__alpha': [0.0001, 0.001, 0.01],\n",
    "        'sgd_regressor__n_iter_no_change': [5,10,15]\n",
    "\n",
    "    },\n",
    "    {\n",
    "        'reduce_dimensionality': [RFE(svm.SVR(kernel='linear', gamma='auto')), RFE(LinearRegression())],\n",
    "        'reduce_dimensionality__n_features_to_select': [2,4,6,8,10,11, None],\n",
    "        'sgd_regressor__penalty': ['l2', 'l1', 'elasticnet'],\n",
    "        'sgd_regressor__alpha': [0.0001, 0.001, 0.01],\n",
    "        'sgd_regressor__n_iter_no_change': [5,10,15]\n",
    "    }\n",
    "]\n",
    "\n",
    "search = GridSearchCV(pipe, param_grid, n_jobs=-1, cv=5, refit=True) # -1 uses all processors, True uses whole training set\n",
    "search.fit(X_train, y_train)"
   ],
   "metadata": {
    "collapsed": false,
    "pycharm": {
     "name": "#%%\n",
     "is_executing": true
    }
   }
  },
  {
   "cell_type": "code",
   "execution_count": 327,
   "outputs": [
    {
     "name": "stdout",
     "output_type": "stream",
     "text": [
      "Best CV Score:  0.7538983923218054\n",
      "Best Parameters:  {'reduce_dimensionality': RFE(estimator=SVR(gamma='auto', kernel='linear'), n_features_to_select=8), 'reduce_dimensionality__n_features_to_select': 8, 'sgd_regressor__alpha': 0.01, 'sgd_regressor__n_iter_no_change': 5, 'sgd_regressor__penalty': 'l1'}\n"
     ]
    }
   ],
   "source": [
    "print(\"Best CV Score: \", search.best_score_)\n",
    "print(\"Best Parameters: \", search.best_params_)\n",
    "\n",
    "# We need to store the parameters and the best model for later use in our comparison\n",
    "\n",
    "sgdr_best_cv_score = search.best_score_\n",
    "sgdr_best_params = search.best_params_\n",
    "sgdr_best_model = search.best_estimator_ # This gives us our best estimator out of the gridsearch"
   ],
   "metadata": {
    "collapsed": false,
    "pycharm": {
     "name": "#%%\n"
    }
   }
  },
  {
   "cell_type": "code",
   "execution_count": 328,
   "outputs": [],
   "source": [
    "sgdr_mse, sgdr_mae, sgdr_r2 = evaluate_model(X_test, y_test, sgdr_best_model)"
   ],
   "metadata": {
    "collapsed": false,
    "pycharm": {
     "name": "#%%\n"
    }
   }
  },
  {
   "cell_type": "code",
   "execution_count": 329,
   "outputs": [],
   "source": [
    "df_mse['SGD'] = sgdr_mse\n",
    "df_mae['SGD'] = sgdr_mae\n",
    "df_r2['SGD'] = sgdr_r2"
   ],
   "metadata": {
    "collapsed": false,
    "pycharm": {
     "name": "#%%\n"
    }
   }
  },
  {
   "cell_type": "code",
   "execution_count": 330,
   "outputs": [
    {
     "data": {
      "text/plain": "<AxesSubplot:>"
     },
     "execution_count": 330,
     "metadata": {},
     "output_type": "execute_result"
    },
    {
     "data": {
      "text/plain": "<Figure size 1440x360 with 3 Axes>",
      "image/png": "[encoded data removed]"
     },
     "metadata": {
      "needs_background": "light"
     },
     "output_type": "display_data"
    }
   ],
   "source": [
    "fig, axes = plt.subplots(nrows=1, ncols=3, figsize=(20,5))\n",
    "\n",
    "df_mse.plot.bar(rot=0, ax=axes[0])\n",
    "df_mae.plot.bar(rot=0, ax=axes[1])\n",
    "df_r2.plot.bar(rot=0, ax=axes[2])"
   ],
   "metadata": {
    "collapsed": false,
    "pycharm": {
     "name": "#%%\n"
    }
   }
  },
  {
   "cell_type": "markdown",
   "source": [
    "Again, we can see from the above that our Random Forest performs best out of our 3 models. Our linear regression and stocahstic gradient descent models perform very similarly each having a CV score of 0.75"
   ],
   "metadata": {
    "collapsed": false,
    "pycharm": {
     "name": "#%% md\n"
    }
   }
  },
  {
   "cell_type": "markdown",
   "source": [
    "## Addition of alternate Dimensionality Reduction Techniques"
   ],
   "metadata": {
    "collapsed": false,
    "pycharm": {
     "name": "#%% md\n"
    }
   }
  },
  {
   "cell_type": "markdown",
   "source": [
    "So far we have explored a Random Forest, Linear Regression and Stochastic Gradient Descent Regressor with PCA and RFE dimensionality reduction (utilising an SVM and LR estimator in our Recursive Feature Elimination).\n",
    "\n",
    "With PCA we look for a combination of features that capture the variance within our original dataset well.\n",
    "Let's explore further dimensionality reduction techniques in our pipeline. We'll start with random projection.\n",
    "We'll use a Gaussian model to reduce dimensionality through gaussian random projection and see what effect that has on our models.\n",
    "\n",
    "We will also add in a hierarchial clustering technique for agglomerative clustering to group together features that look very similar and thus decrease the number of features."
   ],
   "metadata": {
    "collapsed": false,
    "pycharm": {
     "name": "#%% md\n"
    }
   }
  },
  {
   "cell_type": "code",
   "execution_count": 330,
   "outputs": [],
   "source": [],
   "metadata": {
    "collapsed": false,
    "pycharm": {
     "name": "#%%\n"
    }
   }
  },
  {
   "cell_type": "code",
   "execution_count": null,
   "outputs": [],
   "source": [
    "# Looking at the random forest pipline with the addition of a gaussian random projection transformer for dimensionality reduction to the\n",
    "# grid search to see if we can improve our model\n",
    "\n",
    "pipe = Pipeline(steps=[('preprocess', preprocess_pipeline),\n",
    "                       ('reduce_dimensionality', 'passthrough'),\n",
    "                       (\"random_forest_regressor\", RandomForestRegressor(random_state=42))])\n",
    "\n",
    "param_grid = [\n",
    "    {\n",
    "        'reduce_dimensionality': [PCA(iterated_power=7, random_state=42)],\n",
    "        'reduce_dimensionality__n_components': [2,4,6,8,10,11,None],\n",
    "        'reduce_dimensionality__svd_solver': ['auto', 'full', 'arpack', 'randomized'],\n",
    "        'random_forest_regressor__n_estimators': [10,20,30,40,50,60,70,80,90,100],\n",
    "        #'random_forest_regressor__criterion': [\"squared_error\", \"absolute_error\", \"poisson\"],\n",
    "        'random_forest_regressor__max_depth': [2,4,6,8,10, None]\n",
    "    },\n",
    "    {\n",
    "        'reduce_dimensionality': [RFE(svm.SVR(kernel='linear', gamma='auto')), RFE(LinearRegression())],\n",
    "        'reduce_dimensionality__n_features_to_select': [2,4,6,8,10,11, None],\n",
    "        'random_forest_regressor__n_estimators': [10,20,30,40,50,60,70,80,90,100],\n",
    "        #'random_forest_regressor__criterion': [\"squared_error\", \"absolute_error\", \"poisson\"],\n",
    "        'random_forest_regressor__max_depth': [2,4,6,8,10, None]\n",
    "    },\n",
    "    {\n",
    "        'reduce_dimensionality': [GaussianRandomProjection(random_state=42)],\n",
    "        'reduce_dimensionality__n_components': [2,4,6,8,10,11,'auto'],\n",
    "        'random_forest_regressor__n_estimators': [10,20,30,40,50,60,70,80,90,100],\n",
    "        #'random_forest_regressor__criterion': [\"squared_error\", \"absolute_error\", \"poisson\"],\n",
    "        'random_forest_regressor__max_depth': [2,4,6,8,10, None]\n",
    "    },\n",
    "    {\n",
    "        'reduce_dimensionality': [AgglomerativeClustering()],\n",
    "        'reduce_dimensionality__n_clusters': [2,4,6,8,10],\n",
    "        'reduce_dimensionality__linkage': ['ward', 'complete', 'average'],\n",
    "        'random_forest_regressor__n_estimators': [10,20,30,40,50,60,70,80,90,100],\n",
    "        #'random_forest_regressor__criterion': [\"squared_error\", \"absolute_error\", \"poisson\"],\n",
    "        'random_forest_regressor__max_depth': [2,4,6,8,10, None]\n",
    "    }\n",
    "]\n",
    "\n",
    "search = GridSearchCV(pipe, param_grid, n_jobs=-1, cv=5, refit=True) # -1 uses all processors, True uses whole training set\n",
    "search.fit(X_train, y_train)\n"
   ],
   "metadata": {
    "collapsed": false,
    "pycharm": {
     "name": "#%%\n",
     "is_executing": true
    }
   }
  },
  {
   "cell_type": "code",
   "execution_count": 332,
   "outputs": [
    {
     "name": "stdout",
     "output_type": "stream",
     "text": [
      "Best CV Score:  0.868216140645959\n",
      "Best Parameters:  {'random_forest_regressor__max_depth': 4, 'random_forest_regressor__n_estimators': 100, 'reduce_dimensionality': RFE(estimator=SVR(gamma='auto', kernel='linear'), n_features_to_select=8), 'reduce_dimensionality__n_features_to_select': 8}\n"
     ]
    }
   ],
   "source": [
    "print(\"Best CV Score: \", search.best_score_)\n",
    "print(\"Best Parameters: \", search.best_params_)\n",
    "\n",
    "# We need to store the parameters and the best model for later use in our comparison\n",
    "\n",
    "rfr_best_cv_score = search.best_score_\n",
    "rfr_best_params = search.best_params_\n",
    "rfr_best_model = search.best_estimator_ # This gives us our best estimator out of the gridsearch"
   ],
   "metadata": {
    "collapsed": false,
    "pycharm": {
     "name": "#%%\n"
    }
   }
  },
  {
   "cell_type": "markdown",
   "source": [
    "Prior to the introduction of a Gaussian Random Projection transformer in the dimensionality reduction part of the pipeline we were gettging the following results:\n",
    "\n",
    "Best CV Score:  0.852219526228138\n",
    "Best Parameters:  {'random_forest_regressor__max_depth': 4, 'random_forest_regressor__n_estimators': 100, 'reduce_dimensionality': RFE(estimator=SVR(gamma='auto', kernel='linear'), n_features_to_select=11), 'reduce_dimensionality__n_features_to_select': 11}\n",
    "\n",
    "The introduction of the Gaussian Random Projection into our pipeline did not change the performance of our Random Forest model.\n",
    "Equally, the use of Agglomerative Clustering as a dimensionality reduction technique did not change the best model outcome."
   ],
   "metadata": {
    "collapsed": false,
    "pycharm": {
     "name": "#%% md\n"
    }
   }
  },
  {
   "cell_type": "code",
   "execution_count": 332,
   "outputs": [],
   "source": [],
   "metadata": {
    "collapsed": false,
    "pycharm": {
     "name": "#%%\n"
    }
   }
  },
  {
   "cell_type": "code",
   "execution_count": null,
   "outputs": [],
   "source": [
    "pipe = Pipeline(steps=[('preprocess', preprocess_pipeline),\n",
    "                       ('reduce_dimensionality', 'passthrough'),\n",
    "                       (\"linear_regressor\", LinearRegression())])\n",
    "\n",
    "param_grid = [\n",
    "    {\n",
    "        'reduce_dimensionality': [PCA(iterated_power=7, random_state=42)],\n",
    "        'reduce_dimensionality__n_components': [2,4,6,8,10,11,None],\n",
    "        'reduce_dimensionality__svd_solver': ['auto', 'full', 'arpack', 'randomized'],\n",
    "        # 'linear_regressor__normalize': [True, False] - deprecated\n",
    "    },\n",
    "    {\n",
    "        'reduce_dimensionality': [RFE(svm.SVR(kernel='linear', gamma='auto')), RFE(LinearRegression())],\n",
    "        'reduce_dimensionality__n_features_to_select': [2,4,6,8,10,11, None],\n",
    "        # 'linear_regressor__normalize': [True, False] - deprecated\n",
    "    },\n",
    "    {\n",
    "        'reduce_dimensionality': [GaussianRandomProjection(random_state=42)],\n",
    "        'reduce_dimensionality__n_components': [2,4,6,8,10,11,'auto']\n",
    "    },\n",
    "    {\n",
    "        'reduce_dimensionality': [AgglomerativeClustering()],\n",
    "        'reduce_dimensionality__n_clusters': [2,4,6,8,10],\n",
    "        'reduce_dimensionality__linkage': ['ward', 'complete', 'average', 'single']\n",
    "    }\n",
    "]\n",
    "\n",
    "search = GridSearchCV(pipe, param_grid, n_jobs=-1, cv=5, refit=True) # -1 uses all processors, True uses whole training set\n",
    "search.fit(X_train, y_train)"
   ],
   "metadata": {
    "collapsed": false,
    "pycharm": {
     "name": "#%%\n",
     "is_executing": true
    }
   }
  },
  {
   "cell_type": "code",
   "execution_count": 334,
   "outputs": [
    {
     "name": "stdout",
     "output_type": "stream",
     "text": [
      "Best CV Score:  0.7519844777790187\n",
      "Best Parameters:  {'reduce_dimensionality': PCA(iterated_power=7, n_components=10, random_state=42, svd_solver='randomized'), 'reduce_dimensionality__n_components': 10, 'reduce_dimensionality__svd_solver': 'randomized'}\n"
     ]
    }
   ],
   "source": [
    "print(\"Best CV Score: \", search.best_score_)\n",
    "print(\"Best Parameters: \", search.best_params_)\n",
    "\n",
    "# We need to store the parameters and the best model for later use in our comparison\n",
    "\n",
    "lr_best_cv_score = search.best_score_\n",
    "lr_best_params = search.best_params_\n",
    "lr_best_model = search.best_estimator_ # This gives us our best estimator out of the gridsearch"
   ],
   "metadata": {
    "collapsed": false,
    "pycharm": {
     "name": "#%%\n"
    }
   }
  },
  {
   "cell_type": "markdown",
   "source": [
    "Prior to the introduction of a Gaussian Random Projection transformer in the dimensionality reduction part of the pipeline we were gettging the following results:\n",
    "\n",
    "Best CV Score:  0.7498012666238445\n",
    "Best Parameters:  {'reduce_dimensionality': PCA(iterated_power=7, n_components=8, random_state=42), 'reduce_dimensionality__n_components': 8, 'reduce_dimensionality__svd_solver': 'auto'}\n",
    "\n",
    "The introduction of the Gaussian Random Projection into our pipeline altered the dimensionality reduction technique utilised as the best technique from the Grid Search but the CV score change for our Linear Regression model was insignificant.\n",
    "The addition of the Agglomerative Clustering technique did not change the best model/estimator."
   ],
   "metadata": {
    "collapsed": false,
    "pycharm": {
     "name": "#%% md\n"
    }
   }
  },
  {
   "cell_type": "code",
   "execution_count": null,
   "outputs": [],
   "source": [
    "pipe = Pipeline(steps=[('preprocess', preprocess_pipeline),\n",
    "                       ('reduce_dimensionality', 'passthrough'),\n",
    "                       (\"sgd_regressor\", SGDRegressor(random_state=42))])\n",
    "\n",
    "param_grid = [\n",
    "    {\n",
    "        'reduce_dimensionality': [PCA(iterated_power=7, random_state=42)],\n",
    "        'reduce_dimensionality__n_components': [2,4,6,8,10,11,None],\n",
    "        'reduce_dimensionality__svd_solver': ['auto', 'full', 'arpack', 'randomized'],\n",
    "        'sgd_regressor__penalty': ['l2', 'l1', 'elasticnet'],\n",
    "        'sgd_regressor__alpha': [0.0001, 0.001, 0.01],\n",
    "        'sgd_regressor__n_iter_no_change': [5,10,15]\n",
    "\n",
    "    },\n",
    "    {\n",
    "        'reduce_dimensionality': [RFE(svm.SVR(kernel='linear', gamma='auto')), RFE(LinearRegression())],\n",
    "        'reduce_dimensionality__n_features_to_select': [2,4,6,8,10,11, None],\n",
    "        'sgd_regressor__penalty': ['l2', 'l1', 'elasticnet'],\n",
    "        'sgd_regressor__alpha': [0.0001, 0.001, 0.01],\n",
    "        'sgd_regressor__n_iter_no_change': [5,10,15]\n",
    "    },\n",
    "    {\n",
    "        'reduce_dimensionality': [GaussianRandomProjection(random_state=42)],\n",
    "        'reduce_dimensionality__n_components': [2,4,6,8,10,11,'auto'],\n",
    "        'sgd_regressor__penalty': ['l2', 'l1', 'elasticnet'],\n",
    "        'sgd_regressor__alpha': [0.0001, 0.001, 0.01],\n",
    "        'sgd_regressor__n_iter_no_change': [5,10,15]\n",
    "    },\n",
    "    {\n",
    "        'reduce_dimensionality': [AgglomerativeClustering()],\n",
    "        'reduce_dimensionality__n_clusters': [2,4,6,8,10],\n",
    "        'reduce_dimensionality__linkage': ['ward', 'complete', 'average', 'single'],\n",
    "        'sgd_regressor__penalty': ['l2', 'l1', 'elasticnet'],\n",
    "        'sgd_regressor__alpha': [0.0001, 0.001, 0.01],\n",
    "        'sgd_regressor__n_iter_no_change': [5,10,15]\n",
    "    }\n",
    "]\n",
    "\n",
    "search = GridSearchCV(pipe, param_grid, n_jobs=-1, cv=5, refit=True) # -1 uses all processors, True uses whole training set\n",
    "search.fit(X_train, y_train)"
   ],
   "metadata": {
    "collapsed": false,
    "pycharm": {
     "name": "#%%\n",
     "is_executing": true
    }
   }
  },
  {
   "cell_type": "code",
   "execution_count": 336,
   "outputs": [
    {
     "name": "stdout",
     "output_type": "stream",
     "text": [
      "Best CV Score:  0.7538983923218054\n",
      "Best Parameters:  {'reduce_dimensionality': RFE(estimator=SVR(gamma='auto', kernel='linear'), n_features_to_select=8), 'reduce_dimensionality__n_features_to_select': 8, 'sgd_regressor__alpha': 0.01, 'sgd_regressor__n_iter_no_change': 5, 'sgd_regressor__penalty': 'l1'}\n"
     ]
    }
   ],
   "source": [
    "print(\"Best CV Score: \", search.best_score_)\n",
    "print(\"Best Parameters: \", search.best_params_)\n",
    "\n",
    "# We need to store the parameters and the best model for later use in our comparison\n",
    "\n",
    "sgdr_best_cv_score = search.best_score_\n",
    "sgdr_best_params = search.best_params_\n",
    "sgdr_best_model = search.best_estimator_ # This gives us our best estimator out of the gridsearch"
   ],
   "metadata": {
    "collapsed": false,
    "pycharm": {
     "name": "#%%\n"
    }
   }
  },
  {
   "cell_type": "markdown",
   "source": [
    "Prior to the introduction of a Gaussian Random Projection transformer in the dimensionality reduction part of the pipeline we were getting the following results:\n",
    "\n",
    "Best CV Score:  0.7511973097712877\n",
    "Best Parameters:  {'reduce_dimensionality': RFE(estimator=SVR(gamma='auto', kernel='linear'), n_features_to_select=8), 'reduce_dimensionality__n_features_to_select': 8, 'sgd_regressor__alpha': 0.0001, 'sgd_regressor__n_iter_no_change': 15, 'sgd_regressor__penalty': 'l1'}\n",
    "\n",
    "\n",
    "The introduction of the Gaussian Random Projection and Agglomerative Clustering into our pipeline did not change the performance of our SGD model.\n"
   ],
   "metadata": {
    "collapsed": false,
    "pycharm": {
     "name": "#%% md\n"
    }
   }
  },
  {
   "cell_type": "code",
   "execution_count": 336,
   "outputs": [],
   "source": [],
   "metadata": {
    "collapsed": false,
    "pycharm": {
     "name": "#%%\n"
    }
   }
  },
  {
   "cell_type": "code",
   "execution_count": 336,
   "outputs": [],
   "source": [],
   "metadata": {
    "collapsed": false,
    "pycharm": {
     "name": "#%%\n"
    }
   }
  },
  {
   "cell_type": "code",
   "execution_count": 336,
   "outputs": [],
   "source": [],
   "metadata": {
    "collapsed": false,
    "pycharm": {
     "name": "#%%\n"
    }
   }
  },
  {
   "cell_type": "code",
   "execution_count": 336,
   "outputs": [],
   "source": [],
   "metadata": {
    "collapsed": false,
    "pycharm": {
     "name": "#%%\n"
    }
   }
  },
  {
   "cell_type": "code",
   "execution_count": 336,
   "outputs": [],
   "source": [],
   "metadata": {
    "collapsed": false,
    "pycharm": {
     "name": "#%%\n"
    }
   }
  },
  {
   "cell_type": "code",
   "execution_count": 336,
   "outputs": [],
   "source": [],
   "metadata": {
    "collapsed": false,
    "pycharm": {
     "name": "#%%\n"
    }
   }
  },
  {
   "cell_type": "code",
   "execution_count": 336,
   "outputs": [],
   "source": [],
   "metadata": {
    "collapsed": false,
    "pycharm": {
     "name": "#%%\n"
    }
   }
  },
  {
   "cell_type": "code",
   "execution_count": 336,
   "outputs": [],
   "source": [],
   "metadata": {
    "collapsed": false,
    "pycharm": {
     "name": "#%%\n"
    }
   }
  },
  {
   "cell_type": "code",
   "execution_count": 336,
   "outputs": [],
   "source": [],
   "metadata": {
    "collapsed": false,
    "pycharm": {
     "name": "#%%\n"
    }
   }
  },
  {
   "cell_type": "code",
   "execution_count": 336,
   "outputs": [],
   "source": [],
   "metadata": {
    "collapsed": false,
    "pycharm": {
     "name": "#%%\n"
    }
   }
  },
  {
   "cell_type": "code",
   "execution_count": 336,
   "outputs": [],
   "source": [],
   "metadata": {
    "collapsed": false,
    "pycharm": {
     "name": "#%%\n"
    }
   }
  },
  {
   "cell_type": "code",
   "execution_count": 336,
   "outputs": [],
   "source": [],
   "metadata": {
    "collapsed": false,
    "pycharm": {
     "name": "#%%\n"
    }
   }
  },
  {
   "cell_type": "code",
   "execution_count": 336,
   "outputs": [],
   "source": [],
   "metadata": {
    "collapsed": false,
    "pycharm": {
     "name": "#%%\n"
    }
   }
  },
  {
   "cell_type": "code",
   "execution_count": 336,
   "outputs": [],
   "source": [],
   "metadata": {
    "collapsed": false,
    "pycharm": {
     "name": "#%%\n"
    }
   }
  },
  {
   "cell_type": "code",
   "execution_count": 336,
   "outputs": [],
   "source": [],
   "metadata": {
    "collapsed": false,
    "pycharm": {
     "name": "#%%\n"
    }
   }
  },
  {
   "cell_type": "code",
   "execution_count": 336,
   "outputs": [],
   "source": [],
   "metadata": {
    "collapsed": false,
    "pycharm": {
     "name": "#%%\n"
    }
   }
  }
 ],
 "metadata": {
  "kernelspec": {
   "display_name": "Python 3",
   "language": "python",
   "name": "python3"
  },
  "language_info": {
   "codemirror_mode": {
    "name": "ipython",
    "version": 2
   },
   "file_extension": ".py",
   "mimetype": "text/x-python",
   "name": "python",
   "nbconvert_exporter": "python",
   "pygments_lexer": "ipython2",
   "version": "2.7.6"
  }
 },
 "nbformat": 4,
 "nbformat_minor": 0
}